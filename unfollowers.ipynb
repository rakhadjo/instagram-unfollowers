{
 "cells": [
  {
   "cell_type": "code",
   "execution_count": 2,
   "id": "bdd73ca6",
   "metadata": {},
   "outputs": [],
   "source": [
    "from bs4 import BeautifulSoup\n",
    "\n",
    "def print_unfollowers(followers_file='followers_1.html', following_file='following.html'):\n",
    "    \n",
    "    # Load HTML from a local files:\n",
    "    with open(followers_file, 'r') as file:\n",
    "        followers = file.read()\n",
    "\n",
    "    with open(following_file, 'r') as file:\n",
    "        following = file.read()\n",
    "    \n",
    "    html_following = BeautifulSoup(following, 'html.parser')\n",
    "    html_followers = BeautifulSoup(followers, 'html.parser')\n",
    "    \n",
    "    _following = []\n",
    "    _followers = []\n",
    "    \n",
    "    a_following = html_following.find_all('a')\n",
    "    a_followers = html_followers.find_all('a')\n",
    "    \n",
    "    for anchor in a_followers:\n",
    "        link_text = anchor.text.strip()  # Get the link text\n",
    "        href = anchor['href']  # Get the href attribute (the link URL)\n",
    "\n",
    "        # Do something with the link text and URL, e.g., print, store in a list, etc.\n",
    "        _followers.append(link_text)\n",
    "\n",
    "\n",
    "    for anchor in a_following:\n",
    "        link_text = anchor.text.strip()  # Get the link text\n",
    "        href = anchor['href']  # Get the href attribute (the link URL)\n",
    "\n",
    "        _following.append(link_text)\n",
    "        \n",
    "    for following in _following:\n",
    "        if following not in _followers:\n",
    "            print(following)"
   ]
  },
  {
   "cell_type": "code",
   "execution_count": null,
   "id": "2cd67cf2",
   "metadata": {},
   "outputs": [],
   "source": [
    "print_unfollowers()"
   ]
  }
 ],
 "metadata": {
  "kernelspec": {
   "display_name": "Anaconda (base)",
   "language": "python",
   "name": "anaconda-base"
  },
  "language_info": {
   "codemirror_mode": {
    "name": "ipython",
    "version": 3
   },
   "file_extension": ".py",
   "mimetype": "text/x-python",
   "name": "python",
   "nbconvert_exporter": "python",
   "pygments_lexer": "ipython3",
   "version": "3.9.12"
  }
 },
 "nbformat": 4,
 "nbformat_minor": 5
}
